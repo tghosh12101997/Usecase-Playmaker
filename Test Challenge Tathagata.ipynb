{
 "cells": [
  {
   "cell_type": "markdown",
   "id": "05edf49a",
   "metadata": {},
   "source": [
    "# Code for verifying if the uploaded image is a Avatar within the circle."
   ]
  },
  {
   "cell_type": "markdown",
   "id": "b5abf305",
   "metadata": {},
   "source": [
    "As per the given requirement :\n",
    "\n",
    "1.Create a function taking a png as input and verifying that:\n",
    "\n",
    "  a. Size = 512x512\n",
    "\n",
    "  b. The only non transparent pixels are within a circle\n",
    "\n",
    "  c. That the colors is the badge give a \"happy\" feeling\n",
    "\n",
    "2. Additionally, have to create a parallel function that convert the given image (of any format) into the specified object."
   ]
  },
  {
   "cell_type": "code",
   "execution_count": 32,
   "id": "505b1b01",
   "metadata": {},
   "outputs": [],
   "source": [
    "import cv2\n",
    "import numpy as np\n",
    "from PIL import Image, ImageDraw"
   ]
  },
  {
   "cell_type": "code",
   "execution_count": 33,
   "id": "024199b6",
   "metadata": {},
   "outputs": [],
   "source": [
    "def login_avatar(img_path):\n",
    "    \n",
    "    img = Image.open(img_path)\n",
    "\n",
    "  # Check the size of the image.\n",
    "    if img.size != (512, 512):\n",
    "        return False\n",
    "\n",
    "  # Find the non-transparent pixels in the image.\n",
    "    non_trans_pixels = img[:, :, 3] != 0\n",
    "\n",
    "  # Check that all non-transparent pixels are within a circle.\n",
    "    circle_mask = np.zeros_like(non_trans_pixels)\n",
    "    cv2.circle(circle_mask(256, 256), 256, 1, 8)\n",
    "    if not np.array_equal(non_trans_pixels, circle_mask):\n",
    "        return False\n",
    "\n",
    "  # Check the colors of the badge.I have kept yellow, Orange and Pink as happy colour with mild to low intensity.\n",
    "    colors = cv2.mean(img, axis=(0, 1))\n",
    "    happy_feeling_colors = [(255, 255, 204), \n",
    "                          (255, 204, 153), \n",
    "                          (255, 204, 229)]\n",
    "    if not np.array_equal(colors, happy_feeling_colors):\n",
    "        return False\n",
    "\n",
    "    return True"
   ]
  },
  {
   "cell_type": "markdown",
   "id": "efe7dcb9",
   "metadata": {},
   "source": [
    "## Testing by giving an image"
   ]
  },
  {
   "cell_type": "code",
   "execution_count": 36,
   "id": "fd02db0b",
   "metadata": {},
   "outputs": [
    {
     "name": "stdout",
     "output_type": "stream",
     "text": [
      "The image is not a valid badge.\n"
     ]
    }
   ],
   "source": [
    "image = \"badge.png\"\n",
    "\n",
    "if login_avatar(image):\n",
    "  print(\"The image is a valid badge.\")\n",
    "else:\n",
    "  print(\"The image is not a valid badge.\")"
   ]
  },
  {
   "cell_type": "markdown",
   "id": "7579d20d",
   "metadata": {},
   "source": [
    "# Parrallel function for convertion of format of img."
   ]
  },
  {
   "cell_type": "code",
   "execution_count": 37,
   "id": "6e453995",
   "metadata": {},
   "outputs": [],
   "source": [
    "def convert_img_type(input_path, output_path):\n",
    "    img = cv2.imread(input_path)\n",
    "    img = cv2. resize(img, (512,512), interpolation=cv2.INTER_AREA)\n",
    "    \n",
    "    cv2.imwrite(output_path, img)\n",
    "    print(\"Image converted to png successfully\")"
   ]
  },
  {
   "cell_type": "code",
   "execution_count": 38,
   "id": "bb5e1a31",
   "metadata": {},
   "outputs": [
    {
     "name": "stdout",
     "output_type": "stream",
     "text": [
      "Image converted to png successfully\n"
     ]
    }
   ],
   "source": [
    "input_path = \"test.jpg\"\n",
    "output_path = \"test.png\"\n",
    "\n",
    "convert_img_type(input_path, output_path)"
   ]
  },
  {
   "cell_type": "markdown",
   "id": "370fca05",
   "metadata": {},
   "source": [
    "# The image is successfully converted and stored in the root folder"
   ]
  }
 ],
 "metadata": {
  "kernelspec": {
   "display_name": "Python 3",
   "language": "python",
   "name": "python3"
  },
  "language_info": {
   "codemirror_mode": {
    "name": "ipython",
    "version": 3
   },
   "file_extension": ".py",
   "mimetype": "text/x-python",
   "name": "python",
   "nbconvert_exporter": "python",
   "pygments_lexer": "ipython3",
   "version": "3.8.8"
  }
 },
 "nbformat": 4,
 "nbformat_minor": 5
}
